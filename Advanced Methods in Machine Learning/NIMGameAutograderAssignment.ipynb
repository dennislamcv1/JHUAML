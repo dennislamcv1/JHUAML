{
 "cells": [
  {
   "cell_type": "markdown",
   "id": "f0e417e2",
   "metadata": {
    "deletable": false,
    "editable": false,
    "nbgrader": {
     "cell_type": "markdown",
     "checksum": "7f038715e9594701f632e7986e0570c7",
     "grade": false,
     "grade_id": "cell-76f45df7c88a3d2e",
     "locked": true,
     "schema_version": 3,
     "solution": false,
     "task": false
    }
   },
   "source": [
    "<center> <img src=\"JHU.png\" width = 200/> </center>"
   ]
  },
  {
   "cell_type": "markdown",
   "id": "a4a51d19",
   "metadata": {
    "deletable": false,
    "editable": false,
    "nbgrader": {
     "cell_type": "markdown",
     "checksum": "bd86e23da25def6ffbcd1bd9d261e688",
     "grade": false,
     "grade_id": "cell-01e5109d6bc37d7b",
     "locked": true,
     "schema_version": 3,
     "solution": false,
     "task": false
    }
   },
   "source": [
    "# Autograded Assignment: Exploring the NIM Game: Strategy, Rewards, and Q-Learning Enhancements\n",
    "\n",
    "Estimated time needed: **60** minutes\n",
    "\n",
    "### Overview:\n",
    "In this assignment, we explore the NIM game, a mathematical game of strategy where two players take turns removing objects from distinct heaps or piles. The goal is to be the player who removes the last object. The problems in this assignment are designed to help you understand and implement various aspects of the NIM game, including identifying agents, calculating rewards and penalties, determining possible game states, and improving a Q-learning model..\n",
    "\n",
    "\n",
    "### Learning Objectives:\n",
    "- Identify Agents in the NIM Game: Understand the roles of different agents in the NIM game and determine if a specific entity (Guru) is considered an agent.\n",
    "\n",
    "- Calculate Rewards and Penalties: Implement functions to return the reward for winning and the penalty for losing in the NIM game.\n",
    "\n",
    "- Determine Possible Game States: Calculate the total number of possible states in a NIM game with a given number of piles and items per pile.\n",
    "\n",
    "- Calculate Unique Actions: Compute the total number of unique actions that a player can take on their first move in the NIM game.\n",
    "\n",
    "- Improve Q-learning Model: Enhance the Q-learning model by introducing penalties for losses and updating the Q-table after each move.\n",
    "\n",
    "\n",
    "\n",
    "\n"
   ]
  },
  {
   "cell_type": "markdown",
   "id": "bff234c5",
   "metadata": {
    "deletable": false,
    "editable": false,
    "nbgrader": {
     "cell_type": "markdown",
     "checksum": "bbe9f1620d0508c08678dc49e3e2e35c",
     "grade": false,
     "grade_id": "cell-2f6e6045bfa86235",
     "locked": true,
     "schema_version": 3,
     "solution": false,
     "task": false
    }
   },
   "source": [
    "### Problem 1: Write a function to return the number of agents in the Nim game and check if Guru is considered an agent."
   ]
  },
  {
   "cell_type": "code",
   "execution_count": 1,
   "id": "33497199",
   "metadata": {
    "deletable": false,
    "nbgrader": {
     "cell_type": "code",
     "checksum": "01fce45feb794ecb3cb26255a7f221ad",
     "grade": false,
     "grade_id": "cell-14439174221e780c",
     "locked": false,
     "schema_version": 3,
     "solution": true,
     "task": false
    }
   },
   "outputs": [],
   "source": [
    "# Task: Identify the agents and check if Guru is an agent\n",
    "def nim_agents():\n",
    "    \"\"\"\n",
    "    Function to return the number of agents in the Nim learning model and whether Guru is an agent.\n",
    "    Returns:\n",
    "    tuple: (number_of_agents, is_guru_an_agent)\n",
    "    \"\"\"\n",
    "    # Standard Nim game has 2 agents (players)\n",
    "    number_of_agents = 2\n",
    "    \n",
    "    # Assuming \"Guru\" is not a player by default unless specified\n",
    "    is_guru_an_agent = False\n",
    "    \n",
    "    return number_of_agents, is_guru_an_agent\n",
    "\n",
    "\n"
   ]
  },
  {
   "cell_type": "code",
   "execution_count": 2,
   "id": "c723e07f",
   "metadata": {
    "deletable": false,
    "editable": false,
    "nbgrader": {
     "cell_type": "code",
     "checksum": "34a9960f4679a48711c95749fdef48d0",
     "grade": true,
     "grade_id": "cell-a084b9aa65337625",
     "locked": true,
     "points": 5,
     "schema_version": 3,
     "solution": false,
     "task": false
    }
   },
   "outputs": [
    {
     "name": "stdout",
     "output_type": "stream",
     "text": [
      "2 False\n"
     ]
    }
   ],
   "source": [
    "# Note: This is a read-only cell and cannot be edited.\n",
    "num_agents, is_guru_agent = nim_agents()\n",
    "\n",
    "print(num_agents, is_guru_agent)"
   ]
  },
  {
   "cell_type": "markdown",
   "id": "fc0ac3c3",
   "metadata": {
    "deletable": false,
    "editable": false,
    "nbgrader": {
     "cell_type": "markdown",
     "checksum": "06c9fbdda2dc06e5abeaf489f3fe0329",
     "grade": false,
     "grade_id": "cell-65ae4b4ca6b509e5",
     "locked": true,
     "schema_version": 3,
     "solution": false,
     "task": false
    }
   },
   "source": [
    "### Problem 2: Write a function to return the reward for winning and the penalty for losing in the Nim game."
   ]
  },
  {
   "cell_type": "code",
   "execution_count": 3,
   "id": "8d1663cd",
   "metadata": {
    "deletable": false,
    "nbgrader": {
     "cell_type": "code",
     "checksum": "bbbc4c9b6091735d3cb5a23832448d00",
     "grade": false,
     "grade_id": "cell-7ef62a1cd0ec9edc",
     "locked": false,
     "schema_version": 3,
     "solution": true,
     "task": false
    }
   },
   "outputs": [],
   "source": [
    "# Task: Identify the reward and penalty in the Nim learning model\n",
    "def nim_rewards_penalties():\n",
    "    \"\"\"\n",
    "    Function to return the reward for winning and the penalty for losing in the Nim learning model.\n",
    "    Returns:\n",
    "    tuple: (reward_for_winning, penalty_for_losing)\n",
    "    \"\"\"\n",
    "    # Assigning a positive reward for winning\n",
    "    reward_for_winning = 1\n",
    "    \n",
    "    # Assigning a negative penalty for losing\n",
    "    penalty_for_losing = -1\n",
    "    \n",
    "    \n",
    "    return reward_for_winning, penalty_for_losing\n",
    "\n",
    "\n"
   ]
  },
  {
   "cell_type": "code",
   "execution_count": 4,
   "id": "2cf1f83c",
   "metadata": {
    "deletable": false,
    "editable": false,
    "nbgrader": {
     "cell_type": "code",
     "checksum": "7eedbb68f1691b70a286f50d5ffce100",
     "grade": true,
     "grade_id": "cell-e1ce61350f609899",
     "locked": true,
     "points": 5,
     "schema_version": 3,
     "solution": false,
     "task": false
    }
   },
   "outputs": [
    {
     "name": "stdout",
     "output_type": "stream",
     "text": [
      "The reward and penalty are= 1 -1\n"
     ]
    }
   ],
   "source": [
    "# Note: This is a read-only cell and cannot be edited.\n",
    "reward, penalty = nim_rewards_penalties()\n",
    "\n",
    "print(\"The reward and penalty are=\",reward,penalty)"
   ]
  },
  {
   "cell_type": "markdown",
   "id": "f97a0fea",
   "metadata": {
    "deletable": false,
    "editable": false,
    "nbgrader": {
     "cell_type": "markdown",
     "checksum": "0e3e5632e70e7af0841e78ed924531e2",
     "grade": false,
     "grade_id": "cell-1387bed4ca9ffdf3",
     "locked": true,
     "schema_version": 3,
     "solution": false,
     "task": false
    }
   },
   "source": [
    "### Problem 3: Task: Calculate the total number of possible states in a Nim game with 3 piles and a maximum of 10 items per pile."
   ]
  },
  {
   "cell_type": "code",
   "execution_count": 5,
   "id": "662c4207",
   "metadata": {
    "deletable": false,
    "nbgrader": {
     "cell_type": "code",
     "checksum": "633857ccfaed004b095233887639c652",
     "grade": false,
     "grade_id": "cell-bc8639cf4c90fa76",
     "locked": false,
     "schema_version": 3,
     "solution": true,
     "task": false
    }
   },
   "outputs": [],
   "source": [
    "# Define the function add as shown above.\n",
    "# Call the add function with different pairs of numbers and print the result.\n",
    "def calculate_total_states(max_items, piles):\n",
    "    \"\"\"\n",
    "    Calculate the total number of possible states in the Nim game.\n",
    "    Arguments:\n",
    "    max_items: Maximum number of items per pile\n",
    "    piles: Number of piles in the game\n",
    "    \n",
    "    Returns:\n",
    "    int: Total number of possible game states\n",
    "    \"\"\"\n",
    "    \n",
    "    # Total states calculation\n",
    "    total_states = (max_items + 1) ** piles\n",
    "    \n",
    "    return total_states\n"
   ]
  },
  {
   "cell_type": "code",
   "execution_count": 6,
   "id": "e40dfa21",
   "metadata": {
    "deletable": false,
    "editable": false,
    "nbgrader": {
     "cell_type": "code",
     "checksum": "b1ef0f28d05024d2073bebcda60029b0",
     "grade": true,
     "grade_id": "cell-fb76a1f54309dfe8",
     "locked": true,
     "points": 5,
     "schema_version": 3,
     "solution": false,
     "task": false
    }
   },
   "outputs": [
    {
     "name": "stdout",
     "output_type": "stream",
     "text": [
      "Number of total states= 1331\n"
     ]
    }
   ],
   "source": [
    "# Note: This is a read-only cell and cannot be edited.\n",
    "total_states = calculate_total_states(10, 3)\n",
    "\n",
    "print(\"Number of total states=\", total_states)"
   ]
  },
  {
   "cell_type": "markdown",
   "id": "fba0301e",
   "metadata": {
    "deletable": false,
    "editable": false,
    "nbgrader": {
     "cell_type": "markdown",
     "checksum": "f93ed26ca9e4c62bc82e8c7b4a2fd1a4",
     "grade": false,
     "grade_id": "cell-fbcb219f7bbb9f11",
     "locked": true,
     "schema_version": 3,
     "solution": false,
     "task": false
    }
   },
   "source": [
    "### Problem 4: Write a function to calculate the total number of unique actions that player 1 can take on their first move."
   ]
  },
  {
   "cell_type": "code",
   "execution_count": 7,
   "id": "44038918",
   "metadata": {
    "deletable": false,
    "nbgrader": {
     "cell_type": "code",
     "checksum": "e9d748f336f2a6f4a7f6a684a3209528",
     "grade": false,
     "grade_id": "cell-6c2b182b6cf48f60",
     "locked": false,
     "schema_version": 3,
     "solution": true,
     "task": false
    }
   },
   "outputs": [],
   "source": [
    "def calculate_total_actions(max_items, piles):\n",
    "    \"\"\"\n",
    "    Calculate the number of possible actions in the first turn of Nim.\n",
    "    Arguments:\n",
    "    max_items: Maximum number of items per pile\n",
    "    piles: Number of piles in the game\n",
    "    \n",
    "    Returns:\n",
    "    int: Total number of possible unique actions\n",
    "    \"\"\"\n",
    "    # Each pile offers max_items possible moves (removing 1 to max_items)\n",
    "    total_number_unique_actions = piles * max_items\n",
    "    \n",
    "    return total_number_unique_actions\n"
   ]
  },
  {
   "cell_type": "code",
   "execution_count": 8,
   "id": "54ccf9c2",
   "metadata": {
    "deletable": false,
    "editable": false,
    "nbgrader": {
     "cell_type": "code",
     "checksum": "d55eda8a303876bd2a6fea796a3bd92c",
     "grade": true,
     "grade_id": "cell-36984ae2616a30bf",
     "locked": true,
     "points": 5,
     "schema_version": 3,
     "solution": false,
     "task": false
    }
   },
   "outputs": [
    {
     "name": "stdout",
     "output_type": "stream",
     "text": [
      "30\n"
     ]
    }
   ],
   "source": [
    "# Note: This is a read-only cell and cannot be edited.\n",
    "total_actions = calculate_total_actions(10, 3)\n",
    "\n",
    "print(total_actions)\n"
   ]
  },
  {
   "cell_type": "markdown",
   "id": "88b61cfe",
   "metadata": {
    "deletable": false,
    "editable": false,
    "nbgrader": {
     "cell_type": "markdown",
     "checksum": "433ebb315167b983cc6069b23be08557",
     "grade": false,
     "grade_id": "cell-d63dbc50390ab6e8",
     "locked": true,
     "schema_version": 3,
     "solution": false,
     "task": false
    }
   },
   "source": [
    "### Problem 5: Improve the Q-learning model by penalizing losses. Use the Q-learning update rule to modify the Q-table after each move. Introduce a penalty for losing, which should be reflected in the updated Q-values."
   ]
  },
  {
   "cell_type": "code",
   "execution_count": 9,
   "id": "56797290",
   "metadata": {
    "deletable": false,
    "nbgrader": {
     "cell_type": "code",
     "checksum": "75d4b4db8b8ffa6d5c9df5be5ba5fce6",
     "grade": false,
     "grade_id": "cell-4cdf2cea1c08a771",
     "locked": false,
     "schema_version": 3,
     "solution": true,
     "task": false
    }
   },
   "outputs": [],
   "source": [
    "def q_learning_update(q_value, reward, next_q_value, alpha=0.1, gamma=0.9, penalty=False):\n",
    "    \"\"\"\n",
    "    Update the Q-value using the Q-learning formula and optionally penalize losses.\n",
    "    Arguments:\n",
    "    q_value: The current Q-value for the (state, action) pair\n",
    "    reward: The reward received after taking the action\n",
    "    next_q_value: The max Q-value of the next state\n",
    "    alpha: Learning rate (default: 0.1)\n",
    "    gamma: Discount factor (default: 0.9)\n",
    "    penalty: If True, apply a penalty for loss\n",
    "    \n",
    "    Returns:\n",
    "    float: Updated Q-value\n",
    "    \"\"\"\n",
    "    \n",
    "    \n",
    "    # Apply penalty if the game is lost\n",
    "    if penalty:\n",
    "        reward -= 1  # Penalize losing further\n",
    "\n",
    "    # Q-learning update rule\n",
    "    updated_q_value = q_value + alpha * (reward + gamma * next_q_value - q_value)\n",
    "    \n",
    "    return updated_q_value\n",
    "\n"
   ]
  },
  {
   "cell_type": "code",
   "execution_count": 10,
   "id": "dd3791c7",
   "metadata": {
    "deletable": false,
    "editable": false,
    "nbgrader": {
     "cell_type": "code",
     "checksum": "a3ff9b3de187b35489d98f97663989b6",
     "grade": true,
     "grade_id": "cell-30158b0216c8addb",
     "locked": true,
     "points": 5,
     "schema_version": 3,
     "solution": false,
     "task": false
    }
   },
   "outputs": [
    {
     "name": "stdout",
     "output_type": "stream",
     "text": [
      "4.93\n"
     ]
    }
   ],
   "source": [
    "# Note: This is a read-only cell and cannot be edited.\n",
    "updated_q_value = q_learning_update(5, -1, 7, penalty=True)\n",
    "\n",
    "print(updated_q_value)"
   ]
  },
  {
   "cell_type": "markdown",
   "id": "9616ee7d",
   "metadata": {
    "deletable": false,
    "editable": false,
    "nbgrader": {
     "cell_type": "markdown",
     "checksum": "d25cfcc17244b1d9c6985be2174ac076",
     "grade": false,
     "grade_id": "cell-12ad3de1f7346552",
     "locked": true,
     "schema_version": 3,
     "solution": false,
     "task": false
    }
   },
   "source": [
    "### Problem 6: Simulate a game of Nim where the player and the AI alternate turns. \n",
    "* The player always removes a random number of items from one pile, and the AI (simulated as a random player) does the same. \n",
    "\n",
    "* The game ends when all piles are empty. Measure the performance by counting the number of games won by the player in a fixed number of games (e.g., 1000 games)."
   ]
  },
  {
   "cell_type": "code",
   "execution_count": 11,
   "id": "a74f964f",
   "metadata": {
    "deletable": false,
    "nbgrader": {
     "cell_type": "code",
     "checksum": "451738bb2bd0a3776100c47d3d76cf9f",
     "grade": false,
     "grade_id": "cell-7dd50f3e28b33281",
     "locked": false,
     "schema_version": 3,
     "solution": true,
     "task": false
    }
   },
   "outputs": [],
   "source": [
    "import random\n",
    "\n",
    "def simulate_nim_game(max_items, piles, games):\n",
    "    \"\"\"\n",
    "    Simulate multiple games of Nim between a player and a random AI.\n",
    "    The player and AI alternate turns, and the player wins if they make the last move.\n",
    "    \n",
    "    Arguments:\n",
    "    max_items: int - Maximum number of items allowed in each pile at the start of the game.\n",
    "    piles: int - Number of piles in the game.\n",
    "    games: int - Number of games to simulate.\n",
    "    \n",
    "    Returns:\n",
    "    int - Number of games won by the player.\n",
    "\n",
    "    Description:\n",
    "    This function simulates a specified number of Nim games. In each game:\n",
    "    1. The game begins with all piles initialized to `max_items` items.\n",
    "    2. Players take turns removing items from the piles.\n",
    "       - **Player's Turn**: The player selects a non-empty pile and removes a random number of items from it.\n",
    "       - **AI's Turn**: The AI randomly selects a non-empty pile and removes a random number of items from it.\n",
    "    3. The game continues until all piles are empty.\n",
    "    4. The player wins if they make the last move (i.e., if it is the player's turn when the game ends).\n",
    "    \n",
    "    At the end of all simulated games, the function returns the count of games won by the player.\n",
    "    \n",
    "    Example Usage:\n",
    "    >>> player_wins = simulate_nim_game(max_items=10, piles=3, games=100)\n",
    "    >>> print(f\"Player won {player_wins} out of 100 games.\")\n",
    "    \"\"\"\n",
    "    player_wins = 0  # Initialize the count of games won by the player\n",
    "    \n",
    "    for _ in range(games):  # Iterate over the number of games to simulate\n",
    "        game_piles = [max_items] * piles  # Initialize the piles with `max_items` items each\n",
    "        is_player_turn = True  # Start with the player's turn\n",
    "        \n",
    "        while any(pile > 0 for pile in game_piles):  # Continue the game until all piles are empty\n",
    "            if is_player_turn:  # Check if it's the player's turn\n",
    "                # Player chooses a non-empty pile\n",
    "                non_empty_piles = [i for i, pile in enumerate(game_piles) if pile > 0]\n",
    "                pile_index = random.choice(non_empty_piles)  # Select a random non-empty pile\n",
    "                items_to_remove = random.randint(1, game_piles[pile_index])  # Select a random number of items to remove\n",
    "                game_piles[pile_index] -= items_to_remove  # Remove items from the selected pile\n",
    "                \n",
    "            else:  # If it's the AI's turn\n",
    "                # AI chooses a non-empty pile\n",
    "                non_empty_piles = [i for i, pile in enumerate(game_piles) if pile > 0]\n",
    "                pile_index = random.choice(non_empty_piles)  # Select a random non-empty pile\n",
    "                items_to_remove = random.randint(1, game_piles[pile_index])  # Select a random number of items to remove\n",
    "                game_piles[pile_index] -= items_to_remove  # Remove items from the selected pile\n",
    "            \n",
    "            # Switch Turns\n",
    "            is_player_turn = not is_player_turn\n",
    "        if is_player_turn:  # If it's the player's turn after the game ends, the player made the last move\n",
    "            player_wins += 1  # Increment the count of games won by the player\n",
    "    \n",
    "    return player_wins  # Return the total number of games won by the player\n",
    "\n",
    "\n"
   ]
  },
  {
   "cell_type": "code",
   "execution_count": 12,
   "id": "125ff622",
   "metadata": {
    "deletable": false,
    "editable": false,
    "nbgrader": {
     "cell_type": "code",
     "checksum": "0e6c58a54389715c7b2f4fb7fbb9e734",
     "grade": true,
     "grade_id": "cell-ebede20a532e2b1f",
     "locked": true,
     "points": 5,
     "schema_version": 3,
     "solution": false,
     "task": false
    }
   },
   "outputs": [
    {
     "name": "stdout",
     "output_type": "stream",
     "text": [
      "Player won 500 out of 1000 games.\n"
     ]
    }
   ],
   "source": [
    "# Note: This is a read-only cell and cannot be edited.\n",
    "# Parameters\n",
    "max_items = 10\n",
    "piles = 3\n",
    "games = 1000\n",
    "\n",
    "# Simulate games\n",
    "player_wins = simulate_nim_game(max_items, piles, games)\n",
    "\n",
    "\n",
    "print(f\"Player won {player_wins} out of {games} games.\")"
   ]
  },
  {
   "cell_type": "markdown",
   "id": "84a608ae",
   "metadata": {},
   "source": [
    "Congratulations! for completing this Autograded Assignment "
   ]
  }
 ],
 "metadata": {
  "kernelspec": {
   "display_name": "Python 3 (ipykernel)",
   "language": "python",
   "name": "python3"
  },
  "language_info": {
   "codemirror_mode": {
    "name": "ipython",
    "version": 3
   },
   "file_extension": ".py",
   "mimetype": "text/x-python",
   "name": "python",
   "nbconvert_exporter": "python",
   "pygments_lexer": "ipython3",
   "version": "3.10.6"
  }
 },
 "nbformat": 4,
 "nbformat_minor": 5
}
