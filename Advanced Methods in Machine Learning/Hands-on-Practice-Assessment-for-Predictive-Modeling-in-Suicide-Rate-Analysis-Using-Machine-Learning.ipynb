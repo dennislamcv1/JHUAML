{
 "cells": [
  {
   "cell_type": "markdown",
   "id": "19870f98",
   "metadata": {},
   "source": [
    "<center>\n",
    "    <img src=\"JHU.png\" width=\"200\" alt=\"Johns Hopkins University logo\">\n",
    "</center>"
   ]
  },
  {
   "cell_type": "markdown",
   "id": "7c0e0fb9",
   "metadata": {},
   "source": [
    "## Hands-on Practice Assessment for Predictive Modeling in Suicide Rate Analysis Using Machine Learning\n",
    "\n",
    "Estimated Time Needed: **60** minutes\n",
    "\n",
    "### Overview:\n",
    "\n",
    "In this practice assignment, you will use a compiled dataset from Kaggle, https://www.kaggle.com/russellyates88/suicide-rates-overview-1985-to-2016, to predict suicide rates using both one-hot encoded and numerical features. You will build a Multiple Linear Regression model aimed at predicting the increasing suicide rates. The objective of this assignment is to apply various feature engineering techniques and assess the model's performance with each approach.\n",
    "\n",
    "As you work through the assignment, you may encounter questions or challenges requiring additional clarification. In such cases, you can access hidden solutions by clicking the \"Click Here\" option. This feature is designed to guide you and help deepen your understanding of the material, ensuring you complete the assignment effectively.\n",
    "\n",
    "Remember, while the solutions are a helpful resource, try solving the problems independently first to make the most of your practice experience.\n",
    "\n",
    "### Learning Objectives\n",
    "\n",
    "* Develop multiple linear regression models using one-hot encoding and original numerical features.\n",
    "* Evaluate model performance and understand metrics such as Mean Absolute Error (MAE).\n",
    "* Compare the effectiveness of different feature engineering techniques.\n",
    "* Explore advantages and disadvantages of regression and encoding methods in predictive modeling.\n",
    "\n"
   ]
  },
  {
   "cell_type": "markdown",
   "id": "7722821e",
   "metadata": {},
   "source": [
    "### Data Dictionary for \"Suicide Rates Overview 1985 to 2016\" Dataset\n",
    "\n",
    "| Column Name          | Description                                                                 |\n",
    "|----------------------|-----------------------------------------------------------------------------|\n",
    "| `country`            | The name of the country                                                     |\n",
    "| `year`               | The year of the data entry                                                  |\n",
    "| `sex`                | The gender of the individuals (male or female)                              |\n",
    "| `age`                | The age group of the individuals                                            |\n",
    "| `suicides_no`        | The number of suicides                                                      |\n",
    "| `population`         | The population of the specified group                                       |\n",
    "| `suicides/100k pop`  | The number of suicides per 100,000 population                               |\n",
    "| `country-year`       | A combination of country and year                                           |\n",
    "| `HDI for year`       | Human Development Index for the year (if available)                         |\n",
    "| `gdp_for_year ($)`   | Gross Domestic Product for the year in dollars                              |\n",
    "| `gdp_per_capita ($)` | Gross Domestic Product per capita in dollars                                |\n",
    "| `generation`         | The generation of the individuals (e.g., Generation X, Silent, Boomers)     |\n",
    "\n",
    "\n",
    "The target variable here is `suicides/100k pop` and we need to predict this variable based on various other features."
   ]
  },
  {
   "cell_type": "code",
   "execution_count": null,
   "id": "f4e71ce2",
   "metadata": {},
   "outputs": [],
   "source": [
    "#importing required libraries\n",
    "\n",
    "import pandas as pd\n",
    "import numpy as np\n",
    "\n",
    "import matplotlib.pyplot as plt\n",
    "import seaborn as sns\n",
    "import sklearn\n",
    "from sklearn.model_selection import train_test_split\n",
    "from sklearn.metrics import mean_squared_error,mean_absolute_error\n",
    "from sklearn.linear_model import LinearRegression\n",
    "from sklearn.preprocessing import StandardScaler"
   ]
  },
  {
   "cell_type": "markdown",
   "id": "3508bccd",
   "metadata": {},
   "source": [
    "### Problem 1: Use your pre-processed dataset, keep the variables as one-hot encoded, and develop a multiple linear regression model. How many regression coefficients does this model have? "
   ]
  },
  {
   "cell_type": "code",
   "execution_count": null,
   "id": "1ea3c984",
   "metadata": {},
   "outputs": [],
   "source": [
    "#Loading data into dataframe\n",
    "data = pd.read_csv(\"suicide_rates.csv\")"
   ]
  },
  {
   "cell_type": "code",
   "execution_count": null,
   "id": "6d82c77e",
   "metadata": {},
   "outputs": [],
   "source": [
    "## Write your code to display the first 5 rows, list the columns, and count null values in each column.\n",
    "# Display first five rows of the dataframe\n",
    "\n",
    "# List the names of columns\n",
    "\n",
    "#checking the data for null or missing values\n"
   ]
  },
  {
   "cell_type": "markdown",
   "id": "8ae0fad4",
   "metadata": {},
   "source": [
    "<details>\n",
    "<summary>Click here to view/hide solution</summary>\n",
    "    \n",
    "```\n",
    "# Display first five rows of the dataframe\n",
    "data.head()\n",
    "# List the names of columns\n",
    "data.columns\n",
    "#checking the data for null or missing values\n",
    "data.isnull().sum()  \n",
    "    \n",
    "```\n",
    "    \n",
    "</details>"
   ]
  },
  {
   "cell_type": "code",
   "execution_count": null,
   "id": "703f0b38",
   "metadata": {},
   "outputs": [],
   "source": [
    "##  Write your code here to drop the unwanted columns 'HDI for year' and 'country-year'.\n"
   ]
  },
  {
   "cell_type": "markdown",
   "id": "03a1d508",
   "metadata": {},
   "source": [
    "<details>\n",
    "<summary>Click here to view/hide solution</summary>\n",
    "\n",
    "```\n",
    "data = data.drop(['HDI for year','country-year'], axis = 1)\n",
    "data.shape\n",
    "```\n",
    "</details>"
   ]
  },
  {
   "cell_type": "code",
   "execution_count": null,
   "id": "20ece6de",
   "metadata": {},
   "outputs": [],
   "source": [
    "## Write your code to apply one hot encoding to categorical columns country, age, sex and generation.\n"
   ]
  },
  {
   "cell_type": "markdown",
   "id": "d811e5b3",
   "metadata": {},
   "source": [
    "<details>\n",
    "<summary>Click here to view/hide solution</summary>\n",
    "\n",
    "```\n",
    "\n",
    "categorical = ['country','age', 'sex', 'generation']\n",
    "data_encoded = pd.get_dummies(data, columns=categorical)\n",
    "\n",
    "```"
   ]
  },
  {
   "cell_type": "markdown",
   "id": "fcbbeaf9",
   "metadata": {},
   "source": [
    "Before building the model we need to normalize the numerical columns shown below as they are present in a different scale.\n",
    "\n",
    "- `suicide_no`\n",
    "- `population`\n",
    "- `suicides/100k pop`\n",
    "- `gdp for year ($)`\n",
    "- `gdp_per_capita ($)`"
   ]
  },
  {
   "cell_type": "code",
   "execution_count": null,
   "id": "84ca8478",
   "metadata": {},
   "outputs": [],
   "source": [
    "### Write your code to standardize the numerical columns using standard scaling.\n",
    "# Remove commas from the 'gdp_for_year ($)' column and transform it to a float type.\n",
    "data_encoded[' gdp_for_year ($) '] = data_encoded[' gdp_for_year ($) '].str.replace(',','').astype(float)\n",
    "\n",
    "#List the numerical columns to be standadized\n",
    "\n",
    "\n",
    "# Initialize the StandardScaler\n",
    "\n",
    "\n",
    "# Apply standard scaling to the numerical columns\n",
    "\n"
   ]
  },
  {
   "cell_type": "markdown",
   "id": "0934d5ef",
   "metadata": {},
   "source": [
    "<details>\n",
    "<summary>Click here to view/hide solution</summary>\n",
    "    \n",
    "```\n",
    "# Remove commas from the 'gdp_for_year ($)' column and transform it to a float type.\n",
    "data_encoded[' gdp_for_year ($) '] = data_encoded[' gdp_for_year ($) '].str.replace(',','').astype(float)\n",
    "\n",
    "#List the numerical columns to be standadized\n",
    "\n",
    "numerical = ['suicides_no', 'population', 'suicides/100k pop', \n",
    "\n",
    "              ' gdp_for_year ($) ','gdp_per_capita ($)']\n",
    "\n",
    "# Initialize the StandardScaler\n",
    "sc = StandardScaler()\n",
    "\n",
    "# Apply standard scaling to the numerical columns\n",
    "data_encoded[numerical] = sc.fit_transform(data_encoded[numerical])\n",
    "\n",
    "```\n"
   ]
  },
  {
   "cell_type": "code",
   "execution_count": null,
   "id": "fe869541",
   "metadata": {},
   "outputs": [],
   "source": [
    "## Write your code here to build the multiple linear regression model and display the number of coefficients.\n",
    "X = data_encoded.drop(['suicides/100k pop'], axis=1)  # Exclude target and columns with too many missing values\n",
    "y = data_encoded['suicides/100k pop']\n",
    "\n",
    "\n",
    "# Split the data into training and testing sets\n",
    "\n",
    "\n",
    "# Initialize and fit the linear regression model\n",
    "\n",
    "\n",
    "# Make predictions and evaluate the model\n",
    "\n",
    "\n",
    "# Get the number of regression coefficients (including intercept)\n",
    "\n"
   ]
  },
  {
   "cell_type": "markdown",
   "id": "1c3c8561",
   "metadata": {},
   "source": [
    "<details>\n",
    "<summary>Click here to view/hide solution</summary>\n",
    "    \n",
    "```\n",
    "X = data_encoded.drop(['suicides/100k pop'], axis=1)  # Exclude target and columns with too many missing values\n",
    "y = data_encoded['suicides/100k pop']\n",
    "\n",
    "\n",
    "# Split the data into training and testing sets\n",
    "X_train, X_test, y_train, y_test = train_test_split(X, y, test_size=0.2, random_state=42)\n",
    "\n",
    "# Initialize and fit the linear regression model\n",
    "model = LinearRegression()\n",
    "model.fit(X_train, y_train)\n",
    "\n",
    "# Make predictions and evaluate the model\n",
    "y_pred = model.predict(X_test)\n",
    "mse = mean_squared_error(y_test, y_pred)\n",
    "print(f\"Mean Squared Error: {mse}\")\n",
    "\n",
    "# Get the number of regression coefficients (including intercept)\n",
    "num_coefficients = len(model.coef_) + 1  # +1 for intercept\n",
    "print(f\"Number of regression coefficients: {num_coefficients}\")\n",
    "```\n",
    "\n",
    "</details>\n"
   ]
  },
  {
   "cell_type": "markdown",
   "id": "da39b6ee",
   "metadata": {},
   "source": [
    "### Problem 2: Use this model to predict the target variable for people with age 20, male, and generation X. Report this prediction. What is the MAE error of this prediction?"
   ]
  },
  {
   "cell_type": "code",
   "execution_count": null,
   "id": "b797f261",
   "metadata": {},
   "outputs": [],
   "source": [
    "# Write your code here.\n",
    "# Filter the dataframe to include the subset of the dataframe where columns'age_15-24 years', 'sex_male' and 'generation_Generation X' are equal to 1.'\n",
    "\n",
    "\n",
    "# Drop the target variable 'suicides/100k pop' from sample_dataframe to create sample_dataframe_X.\n",
    "\n",
    "\n",
    "# Use the pre-trained model to predict suicide rates \n",
    "\n",
    "\n",
    "# Calculate the Mean Absolute Error (MAE) between the predicted values and the actual values \n",
    "\n"
   ]
  },
  {
   "cell_type": "markdown",
   "id": "1994b709",
   "metadata": {},
   "source": [
    "<details><summary>Click here to view the solution</summary>\n",
    "\n",
    "\n",
    "#Filter DataFrame:\n",
    "- Create a `sample_dataframe` by filtering `data_encoded` for records where:\n",
    "- Age is '15-24 years'\n",
    "- Sex is 'male'\n",
    "- Generation is 'Generation X'\n",
    "\n",
    "```\n",
    "sample_dataframe = data_encoded[(data_encoded['age_15-24 years'] == 1) & (data_encoded['sex_male'] == 1) & (data_encoded['generation_Generation X'] == 1)]\n",
    "\n",
    "#Drop the target variable 'suicides/100k pop' from sample_dataframe to create sample_dataframe_X.\n",
    "sample_dataframe_X=sample_dataframe.drop(['suicides/100k pop'], axis=1)\n",
    "\n",
    "#Use the pre-trained model to predict suicide rates \n",
    "y_pred = model.predict(sample_dataframe_X)\n",
    "    \n",
    "#Calculate the Mean Absolute Error (MAE) between the predicted values and the actual values \n",
    "mae_error = mean_absolute_error(sample_dataframe['suicides/100k pop'], y_pred)\n",
    "print(f\"MAE error: {mae_error}\")\n",
    "\n",
    "\n",
    "```\n",
    "\n",
    "</details>"
   ]
  },
  {
   "cell_type": "markdown",
   "id": "f980d8a3",
   "metadata": {},
   "source": [
    "### Problem 3: Now go back to the original sex, age, and generation variables in their original numerical form (i.e. prior to the one-hot encoding) and build a new model. I.e., feature engineer the original nominal age and generation features into truly numerical features.) How many line coefficients are there?  "
   ]
  },
  {
   "cell_type": "code",
   "execution_count": null,
   "id": "682b58ff",
   "metadata": {},
   "outputs": [],
   "source": [
    "# Write your code here to map the categrical features to numerical values.\n",
    "# Map categorical variables to numerical values. Do the same for the other columns generation and sex.\n",
    "data['age'] = data['age'].map({\n",
    "    '5-14 years': 10,\n",
    "    '15-24 years': 20,\n",
    "    '25-34 years': 30,\n",
    "    '35-54 years': 45,\n",
    "    '55-74 years': 65,\n",
    "    '75+ years': 80\n",
    "})\n",
    "\n",
    "\n"
   ]
  },
  {
   "cell_type": "markdown",
   "id": "f10d1fd6",
   "metadata": {},
   "source": [
    "\n",
    "<details><summary>Click here to view the solution.</summary>\n",
    "    \n",
    "```\n",
    "# Map categorical variables to numerical values\n",
    "data['age'] = data['age'].map({\n",
    "    '5-14 years': 10,\n",
    "    '15-24 years': 20,\n",
    "    '25-34 years': 30,\n",
    "    '35-54 years': 45,\n",
    "    '55-74 years': 65,\n",
    "    '75+ years': 80\n",
    "})\n",
    "data['generation'] = data['generation'].map({\n",
    "    'Generation X': 1,\n",
    "    'Silent': 2,\n",
    "    'Boomers': 3,\n",
    "    'G.I. Generation': 4,\n",
    "    'Millenials': 5\n",
    "    \n",
    "})\n",
    "\n",
    "data['sex'] = data['sex'].map({'male': 1, 'female': 0})\n",
    "\n",
    "data.dropna(subset=['generation'], inplace= True)\n",
    "\n",
    "data = data.drop(['country'], axis = 1)\n",
    "```\n",
    "\n",
    "</details>\n"
   ]
  },
  {
   "cell_type": "code",
   "execution_count": null,
   "id": "4f50930e",
   "metadata": {},
   "outputs": [],
   "source": [
    "## Write your code to standardize the numerical columns using standard scaling.\n",
    "#Scaling the numerical data columns.\n",
    "\n",
    "\n",
    "#List the numerical columns to be standadized\n",
    "\n",
    "\n",
    "# Initialize the StandardScaler\n",
    "\n",
    "\n",
    "# Apply standard scaling to the numerical columns\n",
    "\n"
   ]
  },
  {
   "cell_type": "markdown",
   "id": "ac14d727",
   "metadata": {},
   "source": [
    "<details><summary>Click here to view the solution.</summary>\n",
    "    \n",
    "```\n",
    "\n",
    "#Scaling the numerical data columns.\n",
    "data[' gdp_for_year ($) '] = data[' gdp_for_year ($) '].str.replace(',','').astype(float)\n",
    "\n",
    "#List the numerical columns to be standadized\n",
    "numerical = ['suicides_no', 'population', 'suicides/100k pop', \n",
    "\n",
    "              ' gdp_for_year ($) ','gdp_per_capita ($)']\n",
    "\n",
    "\n",
    "# Initialize the StandardScaler\n",
    "sc = StandardScaler()\n",
    "\n",
    "# Apply standard scaling to the numerical columns\n",
    "data[numerical] = sc.fit_transform(data[numerical])\n",
    "    \n",
    "```\n",
    "\n",
    "</details>"
   ]
  },
  {
   "cell_type": "code",
   "execution_count": null,
   "id": "a7f9b464",
   "metadata": {},
   "outputs": [],
   "source": [
    "## Write your code here to build the multiple linear regression model and display the number of coefficients.\n",
    "\n",
    "X = data.drop(['suicides/100k pop'], axis=1)  # Exclude target and columns with too many missing values\n",
    "y = data['suicides/100k pop']\n",
    "\n",
    "# Split the data into training and testing sets\n",
    "\n",
    "\n",
    "\n",
    "# Initialize and fit the linear regression model\n",
    "\n",
    "\n",
    "\n",
    "# Make predictions and evaluate the model\n",
    "\n"
   ]
  },
  {
   "cell_type": "markdown",
   "id": "d3641146",
   "metadata": {},
   "source": [
    "<details><summary>Click here to view the solution.</summary>\n",
    "\n",
    "```\n",
    "X = data.drop(['suicides/100k pop'], axis=1)  # Exclude target and columns with too many missing values\n",
    "y = data['suicides/100k pop']\n",
    "    \n",
    "# Split the data into training and testing sets\n",
    "X_train, X_test, y_train, y_test = train_test_split(X, y, test_size=0.2, random_state=42)\n",
    "\n",
    "\n",
    "# Initialize and fit the linear regression model\n",
    "model_original = LinearRegression()\n",
    "model_original.fit(X_train, y_train)\n",
    "\n",
    "\n",
    "\n",
    "# Make predictions and evaluate the model\n",
    "y_pred = model_original.predict(X_test)\n",
    "\n",
    "num_line_coefficients = len(model_original.coef_) + 1  # +1 for intercept\n",
    "print(f\"Number of line coefficients: {num_line_coefficients}\")\n",
    "\n",
    "```\n",
    "</details>"
   ]
  },
  {
   "cell_type": "markdown",
   "id": "24c44503",
   "metadata": {},
   "source": [
    "### Problem 4:  Use this new Q3 model to predict the target value for the people with age 20, male, and generation X. Report the prediction. What is the MAE error of this prediction? "
   ]
  },
  {
   "cell_type": "code",
   "execution_count": null,
   "id": "6d9c0569",
   "metadata": {},
   "outputs": [],
   "source": [
    "## Write your code here \n",
    "\n",
    "# Predict the target variable for a specific input (age 20, male, generation X) with original numerical form\n",
    "sample_dataframe = data[(data['age'] == 20) & (data['sex'] == 1) & (data['generation'] == 1)]\n",
    "\n",
    "#Drop the target variable 'suicides/100k pop' from sample_dataframe to create sample_dataframe_X.    \n",
    "\n",
    "\n",
    "#Use the pre-trained model to predict suicide rates \n",
    "\n",
    "\n",
    "# Calculate MAE error of this prediction with original numerical form\n",
    "\n"
   ]
  },
  {
   "cell_type": "markdown",
   "id": "98331d40",
   "metadata": {},
   "source": [
    "<details><summary>Click here to view the solution</summary>\n",
    "\n",
    "```\n",
    "# Predict the target variable for a specific input (age 20, male, generation X) with original numerical form\n",
    "sample_dataframe = data[(data['age'] == 20) & (data['sex'] == 1) & (data['generation'] == 1)]\n",
    "\n",
    "#Drop the target variable 'suicides/100k pop' from sample_dataframe to create sample_dataframe_X.    \n",
    "sample_dataframe_X=sample_dataframe.drop(['suicides/100k pop'], axis=1)\n",
    "\n",
    "#Use the pre-trained model to predict suicide rates \n",
    "prediction_original = model_original.predict(sample_dataframe_X)\n",
    "    \n",
    "print(f\"Prediction for age 20, male, generation X with original numerical form: {prediction_original[0]}\")\n",
    "\n",
    "print(f\"Prediction for age 20, male, generation X with original numerical form: {prediction_original}\")\n",
    "\n",
    "# Calculate MAE error of this prediction with original numerical form\n",
    "\n",
    "mae_error_original = mean_absolute_error(sample_dataframe['suicides/100k pop'], prediction_original)\n",
    "print(f\"MAE error with original numerical form: {mae_error_original}\")\n",
    "\n",
    "```\n",
    "\n",
    "</details>"
   ]
  },
  {
   "cell_type": "markdown",
   "id": "89e6efd1",
   "metadata": {},
   "source": [
    " ### Inferences drawn from the MAE of the two feature Engineering techniques.\n",
    " \n",
    " The increase in MAE from `0.3339` to `0.4216` suggests that the model's performance is slightly worse when using the original numerical form, as the average prediction error has increased.\n",
    " \n",
    " The model has performed better while using the one-hot encoding approach as it was able to capture relationships between the categories and target variable more effectively than using numerical representations.\n",
    " \n",
    " \n",
    " "
   ]
  },
  {
   "cell_type": "markdown",
   "id": "124f8a67",
   "metadata": {},
   "source": [
    "### Problem 5 :Use your Q3. model to predict the target value for age 33, male, and generation Alpha (i.e. the generation after generation Z); report the prediction."
   ]
  },
  {
   "cell_type": "code",
   "execution_count": null,
   "id": "21b88beb",
   "metadata": {},
   "outputs": [],
   "source": [
    "## Write your code here.\n",
    "# Predict the target variable for a specific input (age 20, male, generation X) with original numerical form\n",
    "sample_dataframe = data[(data['age'] == 30) & (data['sex'] == 1) & (data['generation'] == 5)]\n",
    "\n",
    " # Drop the target variable from the test data                                                                            \n",
    "\n",
    "\n",
    "#Use the pre-trained model to predict suicide rates \n",
    "\n",
    "\n",
    "\n",
    "\n",
    "# Calculate MAE error of this prediction with original numerical form\n",
    "\n"
   ]
  },
  {
   "cell_type": "markdown",
   "id": "7a4b2812",
   "metadata": {},
   "source": [
    "<details><summary>Click here to view the solution</summary>\n",
    "\n",
    "```\n",
    "# Predict the target variable for a specific input (age 20, male, generation X) with original numerical form\n",
    "sample_dataframe = data[(data['age'] == 30) & (data['sex'] == 1) & (data['generation'] == 5)]\n",
    "\n",
    " # Drop the target variable from the test data                                                                            \n",
    "sample_dataframe_X=sample_dataframe.drop(['suicides/100k pop'], axis=1)\n",
    "\n",
    "#Use the pre-trained model to predict suicide rates \n",
    "prediction_original = model_original.predict(sample_dataframe_X)\n",
    "\n",
    "print(f\"Prediction for age 33, male, generation X with original numerical form: {prediction_original[0]}\")\n",
    "\n",
    "# Calculate MAE error of this prediction with original numerical form\n",
    "\n",
    "mae_error_original = mean_absolute_error(sample_dataframe['suicides/100k pop'], prediction_original)\n",
    "print(f\"MAE error with original numerical form: {mae_error_original}\")\n",
    "```\n",
    "\n",
    "</details>"
   ]
  },
  {
   "cell_type": "markdown",
   "id": "a7265da5",
   "metadata": {},
   "source": [
    "### Model Inferences:\n",
    "\n",
    "#### Advantage of Using Regression with nominal features\n",
    "\n",
    "In this problem the target variable `suicides/100k pop` used to predict suicide rates is a continous variable. Whenever we are having the outcome variable to be a continous variable, we need to apply regression techniques rather than classification. \n",
    "\n",
    "Classification is generally used when the target variable is a categorical variable.\n",
    "\n",
    "In our present problem we encounter several nominal or categorical features such as `age`,`sex`,`generation`.\n",
    "\n",
    "We can still build the regression model here as we use suitable feature engineering techniques such as `One-hot encoding` which will  transform these features to a form suitable for regression.\n",
    "\n",
    "Thus, we are preserving the relationship between the categories and the continuous outcome.\n",
    "\n",
    "#### Advantage of Using Regular Numerical values rather than one-hot encoding\n",
    "\n",
    "When we use one-hot encoding, the dimensionality increases because each categorical feature is converted into multiple binary columns, potentially resulting in a significant number of additional columns.\n",
    "\n",
    "However, this issue does not arise with regular numerical values, thus reducing the dimensionality.\n",
    "\n"
   ]
  },
  {
   "cell_type": "markdown",
   "id": "f0e7ccac",
   "metadata": {},
   "source": [
    "## Summary:\n",
    "\n",
    "This assignment offers a hands-on experience in building and evaluating the performance of a multiple linear regression model using various feature engineering techniques, such as one-hot encoding and numerical features. Ultimately, we conclude that the model performs best when utilizing the one-hot encoding approach."
   ]
  },
  {
   "cell_type": "code",
   "execution_count": null,
   "id": "683244b5",
   "metadata": {},
   "outputs": [],
   "source": []
  }
 ],
 "metadata": {
  "kernelspec": {
   "display_name": "Python 3 (ipykernel)",
   "language": "python",
   "name": "python3"
  },
  "language_info": {
   "codemirror_mode": {
    "name": "ipython",
    "version": 3
   },
   "file_extension": ".py",
   "mimetype": "text/x-python",
   "name": "python",
   "nbconvert_exporter": "python",
   "pygments_lexer": "ipython3",
   "version": "3.10.6"
  }
 },
 "nbformat": 4,
 "nbformat_minor": 5
}
